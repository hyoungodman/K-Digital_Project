{
 "cells": [
  {
   "cell_type": "code",
   "execution_count": 1,
   "metadata": {
    "colab": {
     "base_uri": "https://localhost:8080/",
     "height": 36
    },
    "executionInfo": {
     "elapsed": 3350,
     "status": "ok",
     "timestamp": 1673324521917,
     "user": {
      "displayName": "‍김영훈(산업경영공학과)",
      "userId": "17490164280870887236"
     },
     "user_tz": -540
    },
    "id": "odmLrzwp_AcY",
    "outputId": "e2cd5426-7979-4972-ce0c-b91864ed6804"
   },
   "outputs": [
    {
     "data": {
      "application/vnd.google.colaboratory.intrinsic+json": {
       "type": "string"
      },
      "text/plain": [
       "'2.9.0'"
      ]
     },
     "execution_count": 1,
     "metadata": {},
     "output_type": "execute_result"
    }
   ],
   "source": [
    "import tensorflow.keras as keras\n",
    "keras.__version__"
   ]
  },
  {
   "cell_type": "markdown",
   "metadata": {
    "collapsed": true,
    "id": "JdSMt3AZ_Acd"
   },
   "source": [
    "# Introduction to convnets\n",
    "\n",
    "이 노트북에는 [Deep Learning with Python](https://www.manning.com/books/deep-learning-with-python?a_aid=keras&a_bid=76564dff)의 5 장 섹션 1에있는 코드 샘플이 포함되어 있습니다. 원본 텍스트에는 훨씬 더 많은 내용, 특히 추가 설명 및 그림이 포함되어 있습니다.이 노트북에서는 소스 코드와 관련 주석 만 찾을 수 있습니다.\n",
    "\n",
    "----\n",
    "\n",
    "먼저, 매우 간단한 convnet 예제를 실제적으로 살펴 보겠습니다. convnet을 사용하여 fully connected 네트워크를 사용하여수행 한 작업 인 MNIST 숫자를 분류합니다 (테스트 정확도는 97.8 %였습니다). convnet은 매우 기본적이지만 2 장의 fully connected 모델의 정확도에 비해 좋은 성능을 보일 것입니다.\n",
    "\n",
    "\n",
    "아래 6 줄의 코드는 기본적인 convnet의 모습을 보여줍니다. 'Conv2D'및 'MaxPooling2D' 레이어의 스택입니다. 우리는 그들이 구체적으로 무엇을하는지 분. 중요한 것은 convnet이`(image_height, image_width, image_channels)`형태의 입력 텐서 (배치 차원 제외)를 취한다는 것입니다.\n",
    "이 경우 MNIST 이미지 형식 인`(28, 28, 1)`크기의 입력을 처리하도록 convnet을 구성합니다. 우리는 인수`input_shape = (28, 28, 1)`을 첫 번째 레이어에 전달합니다."
   ]
  },
  {
   "cell_type": "code",
   "execution_count": 2,
   "metadata": {
    "executionInfo": {
     "elapsed": 2517,
     "status": "ok",
     "timestamp": 1673324524431,
     "user": {
      "displayName": "‍김영훈(산업경영공학과)",
      "userId": "17490164280870887236"
     },
     "user_tz": -540
    },
    "id": "0NWeMdwu_Acd"
   },
   "outputs": [],
   "source": [
    "from tensorflow.keras import layers\n",
    "from tensorflow.keras import models\n",
    "\n",
    "model = models.Sequential()\n",
    "model.add(layers.Conv2D(32, (3, 3), activation='relu', input_shape=(28, 28, 1), padding='same'))\n",
    "model.add(layers.MaxPooling2D((2, 2)))\n",
    "model.add(layers.Conv2D(64, (3, 3), activation='relu'))\n",
    "model.add(layers.MaxPooling2D((2, 2)))\n",
    "model.add(layers.Conv2D(64, (3, 3), activation='relu'))"
   ]
  },
  {
   "cell_type": "markdown",
   "metadata": {
    "id": "gEg5uNPE_Acf"
   },
   "source": [
    "모델의 아키텍쳐를 요약하면 다음과 같습니다:"
   ]
  },
  {
   "cell_type": "code",
   "execution_count": 3,
   "metadata": {
    "colab": {
     "base_uri": "https://localhost:8080/"
    },
    "executionInfo": {
     "elapsed": 14,
     "status": "ok",
     "timestamp": 1673324524431,
     "user": {
      "displayName": "‍김영훈(산업경영공학과)",
      "userId": "17490164280870887236"
     },
     "user_tz": -540
    },
    "id": "aYTvfc6n_Acf",
    "outputId": "173b8688-f2da-42e4-c809-f1345bd6b96e"
   },
   "outputs": [
    {
     "name": "stdout",
     "output_type": "stream",
     "text": [
      "Model: \"sequential\"\n",
      "_________________________________________________________________\n",
      " Layer (type)                Output Shape              Param #   \n",
      "=================================================================\n",
      " conv2d (Conv2D)             (None, 28, 28, 32)        320       \n",
      "                                                                 \n",
      " max_pooling2d (MaxPooling2D  (None, 14, 14, 32)       0         \n",
      " )                                                               \n",
      "                                                                 \n",
      " conv2d_1 (Conv2D)           (None, 12, 12, 64)        18496     \n",
      "                                                                 \n",
      " max_pooling2d_1 (MaxPooling  (None, 6, 6, 64)         0         \n",
      " 2D)                                                             \n",
      "                                                                 \n",
      " conv2d_2 (Conv2D)           (None, 4, 4, 64)          36928     \n",
      "                                                                 \n",
      "=================================================================\n",
      "Total params: 55,744\n",
      "Trainable params: 55,744\n",
      "Non-trainable params: 0\n",
      "_________________________________________________________________\n"
     ]
    }
   ],
   "source": [
    "model.summary()"
   ]
  },
  {
   "cell_type": "markdown",
   "metadata": {
    "collapsed": true,
    "id": "1Gb8WMGY_Ach"
   },
   "source": [
    "위에서 모든`Conv2D` 및`MaxPooling2D` 레이어의 출력 형태가`(height, width, channels)`모양의 3D 텐서임을 알 수 있습니다. 너비와 높이는\n",
    "네트워크에서 더 깊숙이 갈수록 크기가 줄어드는 경향이 있습니다. 채널 수는 전달 된 첫 번째 인수에 의해 제어됩니다.\n",
    "'Conv2D'레이어 (예 : 32 또는 64).\n",
    "\n",
    "다음 단계는 우리의 마지막 출력 텐서 (`(3, 3, 64)`모양)를 사용자와 같이 fully connected 분류기 네트워크에 입력하는 것입니다. 이미 익숙한 : 'Dense'레이어 스택. 이러한 분류기는 1D 인 벡터를 처리하지만 현재 출력은 3D 텐서입니다. 따라서 먼저 3D 출력을 1D로 평면화 한 다음 위에 'Dense'레이어를 몇 개 추가해야합니다."
   ]
  },
  {
   "cell_type": "code",
   "execution_count": 4,
   "metadata": {
    "executionInfo": {
     "elapsed": 8,
     "status": "ok",
     "timestamp": 1673324524431,
     "user": {
      "displayName": "‍김영훈(산업경영공학과)",
      "userId": "17490164280870887236"
     },
     "user_tz": -540
    },
    "id": "MigWgcLt_Aci"
   },
   "outputs": [],
   "source": [
    "model.add(layers.Flatten())\n",
    "model.add(layers.Dense(64, activation='relu'))\n",
    "model.add(layers.Dense(10, activation='softmax'))"
   ]
  },
  {
   "cell_type": "markdown",
   "metadata": {
    "id": "TqjqPGfX_Ack"
   },
   "source": [
    "We are going to do 10-way classification, so we use a final layer with 10 outputs and a softmax activation. Now here's what our network \n",
    "looks like:"
   ]
  },
  {
   "cell_type": "code",
   "execution_count": 5,
   "metadata": {
    "colab": {
     "base_uri": "https://localhost:8080/"
    },
    "executionInfo": {
     "elapsed": 7,
     "status": "ok",
     "timestamp": 1673324524431,
     "user": {
      "displayName": "‍김영훈(산업경영공학과)",
      "userId": "17490164280870887236"
     },
     "user_tz": -540
    },
    "id": "BgS5DUE__Ack",
    "outputId": "5d16940d-85cc-4888-a358-fd4ffa85cd53"
   },
   "outputs": [
    {
     "name": "stdout",
     "output_type": "stream",
     "text": [
      "Model: \"sequential\"\n",
      "_________________________________________________________________\n",
      " Layer (type)                Output Shape              Param #   \n",
      "=================================================================\n",
      " conv2d (Conv2D)             (None, 28, 28, 32)        320       \n",
      "                                                                 \n",
      " max_pooling2d (MaxPooling2D  (None, 14, 14, 32)       0         \n",
      " )                                                               \n",
      "                                                                 \n",
      " conv2d_1 (Conv2D)           (None, 12, 12, 64)        18496     \n",
      "                                                                 \n",
      " max_pooling2d_1 (MaxPooling  (None, 6, 6, 64)         0         \n",
      " 2D)                                                             \n",
      "                                                                 \n",
      " conv2d_2 (Conv2D)           (None, 4, 4, 64)          36928     \n",
      "                                                                 \n",
      " flatten (Flatten)           (None, 1024)              0         \n",
      "                                                                 \n",
      " dense (Dense)               (None, 64)                65600     \n",
      "                                                                 \n",
      " dense_1 (Dense)             (None, 10)                650       \n",
      "                                                                 \n",
      "=================================================================\n",
      "Total params: 121,994\n",
      "Trainable params: 121,994\n",
      "Non-trainable params: 0\n",
      "_________________________________________________________________\n"
     ]
    }
   ],
   "source": [
    "model.summary()"
   ]
  },
  {
   "cell_type": "markdown",
   "metadata": {
    "id": "bmgmgKYq_Acm"
   },
   "source": [
    "보시다시피,`(3, 3, 64)`출력은 두 개의`Dense` 레이어를 거치기 전에`(576,)`모양의 벡터로 변환되었습니다.\n",
    "\n",
    "이제 MNIST 숫자로 convnet을 훈련시켜 보겠습니다."
   ]
  },
  {
   "cell_type": "code",
   "execution_count": 6,
   "metadata": {
    "colab": {
     "base_uri": "https://localhost:8080/"
    },
    "executionInfo": {
     "elapsed": 2210,
     "status": "ok",
     "timestamp": 1673324526638,
     "user": {
      "displayName": "‍김영훈(산업경영공학과)",
      "userId": "17490164280870887236"
     },
     "user_tz": -540
    },
    "id": "fDL2IuhN_Acm",
    "outputId": "701b140f-7960-4338-91d3-54923e75c278"
   },
   "outputs": [
    {
     "name": "stdout",
     "output_type": "stream",
     "text": [
      "Downloading data from https://storage.googleapis.com/tensorflow/tf-keras-datasets/mnist.npz\n",
      "11490434/11490434 [==============================] - 2s 0us/step\n"
     ]
    }
   ],
   "source": [
    "from tensorflow.keras.datasets import mnist\n",
    "from tensorflow.keras.utils import to_categorical\n",
    "\n",
    "(train_images, train_labels), (test_images, test_labels) = mnist.load_data()\n",
    "\n",
    "train_images = train_images.reshape((60000, 28, 28, 1))\n",
    "train_images = train_images.astype('float32') / 255\n",
    "\n",
    "test_images = test_images.reshape((10000, 28, 28, 1))\n",
    "test_images = test_images.astype('float32') / 255\n",
    "\n",
    "train_labels = to_categorical(train_labels)\n",
    "test_labels = to_categorical(test_labels)"
   ]
  },
  {
   "cell_type": "code",
   "execution_count": 10,
   "metadata": {
    "colab": {
     "base_uri": "https://localhost:8080/"
    },
    "executionInfo": {
     "elapsed": 41304,
     "status": "ok",
     "timestamp": 1673324661941,
     "user": {
      "displayName": "‍김영훈(산업경영공학과)",
      "userId": "17490164280870887236"
     },
     "user_tz": -540
    },
    "id": "-bd-kQ5a_Aco",
    "outputId": "d6401924-64ef-4d70-f17f-8f9fce15658c"
   },
   "outputs": [
    {
     "name": "stdout",
     "output_type": "stream",
     "text": [
      "Epoch 1/10\n",
      "469/469 [==============================] - 4s 7ms/step - loss: 0.0062 - accuracy: 0.9979\n",
      "Epoch 2/10\n",
      "469/469 [==============================] - 3s 7ms/step - loss: 0.0052 - accuracy: 0.9986\n",
      "Epoch 3/10\n",
      "469/469 [==============================] - 3s 6ms/step - loss: 0.0042 - accuracy: 0.9987\n",
      "Epoch 4/10\n",
      "469/469 [==============================] - 3s 5ms/step - loss: 0.0039 - accuracy: 0.9987\n",
      "Epoch 5/10\n",
      "469/469 [==============================] - 3s 5ms/step - loss: 0.0033 - accuracy: 0.9989\n",
      "Epoch 6/10\n",
      "469/469 [==============================] - 3s 6ms/step - loss: 0.0028 - accuracy: 0.9991\n",
      "Epoch 7/10\n",
      "469/469 [==============================] - 3s 6ms/step - loss: 0.0033 - accuracy: 0.9991\n",
      "Epoch 8/10\n",
      "469/469 [==============================] - 3s 6ms/step - loss: 0.0027 - accuracy: 0.9991\n",
      "Epoch 9/10\n",
      "469/469 [==============================] - 3s 6ms/step - loss: 0.0025 - accuracy: 0.9993\n",
      "Epoch 10/10\n",
      "469/469 [==============================] - 3s 5ms/step - loss: 0.0020 - accuracy: 0.9993\n"
     ]
    },
    {
     "data": {
      "text/plain": [
       "<keras.callbacks.History at 0x7f7ebc8751f0>"
      ]
     },
     "execution_count": 10,
     "metadata": {},
     "output_type": "execute_result"
    }
   ],
   "source": [
    "model.compile(optimizer='rmsprop',\n",
    "              loss='categorical_crossentropy',\n",
    "              metrics=['accuracy'])\n",
    "model.fit(train_images, train_labels, epochs=10, batch_size=128)"
   ]
  },
  {
   "cell_type": "markdown",
   "metadata": {
    "id": "DFeB5ma-_Acq"
   },
   "source": [
    "test 데이터를 이용해서 검증:"
   ]
  },
  {
   "cell_type": "code",
   "execution_count": 11,
   "metadata": {
    "colab": {
     "base_uri": "https://localhost:8080/"
    },
    "executionInfo": {
     "elapsed": 1364,
     "status": "ok",
     "timestamp": 1673324663291,
     "user": {
      "displayName": "‍김영훈(산업경영공학과)",
      "userId": "17490164280870887236"
     },
     "user_tz": -540
    },
    "id": "oQzhnvxX_Acr",
    "outputId": "61485206-581a-4741-a3a9-68a313064e05"
   },
   "outputs": [
    {
     "name": "stdout",
     "output_type": "stream",
     "text": [
      "313/313 [==============================] - 1s 3ms/step - loss: 0.0463 - accuracy: 0.9922\n"
     ]
    }
   ],
   "source": [
    "test_loss, test_acc = model.evaluate(test_images, test_labels)"
   ]
  },
  {
   "cell_type": "code",
   "execution_count": 12,
   "metadata": {
    "colab": {
     "base_uri": "https://localhost:8080/"
    },
    "executionInfo": {
     "elapsed": 1291,
     "status": "ok",
     "timestamp": 1673324668362,
     "user": {
      "displayName": "‍김영훈(산업경영공학과)",
      "userId": "17490164280870887236"
     },
     "user_tz": -540
    },
    "id": "Izo7jIL5_Acs",
    "outputId": "25b71b65-3fbf-4666-ae6d-fe428fd2450a"
   },
   "outputs": [
    {
     "data": {
      "text/plain": [
       "0.9922000169754028"
      ]
     },
     "execution_count": 12,
     "metadata": {},
     "output_type": "execute_result"
    }
   ],
   "source": [
    "test_acc"
   ]
  },
  {
   "cell_type": "markdown",
   "metadata": {
    "id": "JGa675Va_Acu"
   },
   "source": [
    "fully connected 네트워크의 테스트 정확도는 97.8 % 였지만 기본 convnet의 테스트 정확도는 99% 이상입니다."
   ]
  }
 ],
 "metadata": {
  "accelerator": "GPU",
  "colab": {
   "provenance": []
  },
  "kernelspec": {
   "display_name": "Python 3 (ipykernel)",
   "language": "python",
   "name": "python3"
  },
  "language_info": {
   "codemirror_mode": {
    "name": "ipython",
    "version": 3
   },
   "file_extension": ".py",
   "mimetype": "text/x-python",
   "name": "python",
   "nbconvert_exporter": "python",
   "pygments_lexer": "ipython3",
   "version": "3.9.15"
  }
 },
 "nbformat": 4,
 "nbformat_minor": 1
}
