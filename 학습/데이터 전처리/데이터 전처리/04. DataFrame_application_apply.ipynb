{
 "cells": [
  {
   "cell_type": "markdown",
   "metadata": {},
   "source": [
    "# 함수 적용 (apply)"
   ]
  },
  {
   "cell_type": "markdown",
   "metadata": {},
   "source": [
    "apply 함수를 이용해서 기존의 데이터를 이용하여 새로운 데이터 변수를 만들어 낼 수 있음. 이에 대한 실습을 진행하겠습니다. \n",
    "\n",
    "아래의 자료는 기존 강의자료에 있는 내용이며, 아래 부분으로 가시면 실습을 하실 수 있는 가이드가 있습니다. 가이드에 따라 여러가지 시도를 해보세요."
   ]
  },
  {
   "cell_type": "code",
   "execution_count": null,
   "metadata": {},
   "outputs": [],
   "source": [
    "import pandas as pd\n",
    "from sklearn import datasets"
   ]
  },
  {
   "cell_type": "code",
   "execution_count": null,
   "metadata": {},
   "outputs": [],
   "source": [
    "data = datasets.load_iris()\n",
    "df = pd.DataFrame(data.data, columns=data.feature_names)\n",
    "df.head()"
   ]
  },
  {
   "cell_type": "code",
   "execution_count": null,
   "metadata": {},
   "outputs": [],
   "source": [
    "def half_length(length):\n",
    "    return length / 2"
   ]
  },
  {
   "cell_type": "code",
   "execution_count": null,
   "metadata": {},
   "outputs": [],
   "source": [
    "sepal_half = df.loc[:,['sepal length (cm)']].apply(half_length)\n",
    "print(sepal_half.head())"
   ]
  },
  {
   "cell_type": "code",
   "execution_count": null,
   "metadata": {},
   "outputs": [],
   "source": [
    "sepal_half = df.loc[:,['sepal length (cm)']].apply(lambda x : x/2)\n",
    "print(sepal_half.head())"
   ]
  },
  {
   "cell_type": "code",
   "execution_count": null,
   "metadata": {},
   "outputs": [],
   "source": [
    "def area(length, width):\n",
    "    return length*width"
   ]
  },
  {
   "cell_type": "code",
   "execution_count": null,
   "metadata": {},
   "outputs": [],
   "source": [
    "sepal_area = df.loc[:,['sepal length (cm)', 'sepal width (cm)']].apply(lambda x : area(x['sepal length (cm)'], x['sepal width (cm)']), axis=1)\n",
    "print(sepal_area.head())"
   ]
  },
  {
   "cell_type": "code",
   "execution_count": null,
   "metadata": {},
   "outputs": [],
   "source": [
    "df_half = df.applymap(half_length)"
   ]
  },
  {
   "cell_type": "code",
   "execution_count": null,
   "metadata": {},
   "outputs": [],
   "source": [
    "df_half"
   ]
  },
  {
   "cell_type": "code",
   "execution_count": null,
   "metadata": {},
   "outputs": [],
   "source": [
    "df_double = df.apply(lambda x: x*2 , axis=0)\n",
    "df_double.head()"
   ]
  },
  {
   "cell_type": "code",
   "execution_count": null,
   "metadata": {},
   "outputs": [],
   "source": [
    "def area(length, width):\n",
    "    return length*width \n",
    "\n",
    "df['sepal_area'] =  df.loc[:,['sepal length (cm)', 'sepal width (cm)']].apply(\\\n",
    "                    lambda x : area(x['sepal length (cm)'], x['sepal width (cm)']), axis=1)\n",
    "print(df.head())\n"
   ]
  },
  {
   "cell_type": "markdown",
   "metadata": {},
   "source": [
    "## 실습해보세요\n",
    "\n",
    "1. petal length (cm) 변수에 제곱에 대한 시리즈 결과값을 추출하세요. 함수방식과 lambda함수 방식 모두 구현!\n",
    "\n",
    "2. petal의 면적을 구하는 apply 함수를 구현하세요. 여기서는 lambda 방식을 활용해보세요"
   ]
  },
  {
   "cell_type": "code",
   "execution_count": null,
   "metadata": {},
   "outputs": [],
   "source": [
    "# petal length 제곱 구하기"
   ]
  },
  {
   "cell_type": "code",
   "execution_count": null,
   "metadata": {},
   "outputs": [],
   "source": [
    "# petal 면적을 구하기 (lambda 이용하기)"
   ]
  },
  {
   "cell_type": "code",
   "execution_count": null,
   "metadata": {},
   "outputs": [],
   "source": [
    "# 기존 데이터셋(df)에서 하고싶은 방식을 이용하여 새로운 변수 2가지 이상을 만들어보고, 하나의 데이터셋으로 만들어보세요\n",
    "# df.head() 시에 새로 추가된 변수가 같이 표현되어야 합니다."
   ]
  },
  {
   "cell_type": "code",
   "execution_count": null,
   "metadata": {},
   "outputs": [],
   "source": []
  },
  {
   "cell_type": "markdown",
   "metadata": {},
   "source": [
    "seaborn 패키지에서 데이터를 받아서 아래 설명대로 진행하시면 됩니다. 설치가되어있지 않다면 아래 Pip install seaborn을 실행시키세요"
   ]
  },
  {
   "cell_type": "markdown",
   "metadata": {},
   "source": [
    "1. 나이 열에 10살을 더하는 함수를 구현하여 적용하고 결과값을 확인하세요\n",
    "2. 나이에 특정 파라미터 숫자를 입력받아서 더하는 함수를 구현하고, 파라미터에 5를 넣어서 결과값을 확인하세요.\n",
    "\n",
    "-- ex) def add_age_num(age, num): -> age는 데이터에서 입력받고, num은 사용자가 넣을 수 있도록"
   ]
  },
  {
   "cell_type": "code",
   "execution_count": null,
   "metadata": {},
   "outputs": [],
   "source": [
    "! pip install seaborn"
   ]
  },
  {
   "cell_type": "code",
   "execution_count": null,
   "metadata": {},
   "outputs": [],
   "source": [
    "import seaborn as sns\n",
    "data = sns.load_dataset('titanic')\n",
    "data.head()"
   ]
  },
  {
   "cell_type": "code",
   "execution_count": null,
   "metadata": {},
   "outputs": [],
   "source": []
  },
  {
   "cell_type": "markdown",
   "metadata": {},
   "source": [
    "# 데이터 행/열 다루기"
   ]
  },
  {
   "cell_type": "markdown",
   "metadata": {},
   "source": [
    "# 열 순서 변경하기"
   ]
  },
  {
   "cell_type": "code",
   "execution_count": null,
   "metadata": {},
   "outputs": [],
   "source": [
    "boston = datasets.load_boston()\n",
    "boston = pd.DataFrame(boston.data, columns=boston.feature_names)\n",
    "boston.head()"
   ]
  },
  {
   "cell_type": "code",
   "execution_count": null,
   "metadata": {},
   "outputs": [],
   "source": [
    "col_names = list(boston.columns)\n",
    "print(col_names)"
   ]
  },
  {
   "cell_type": "code",
   "execution_count": null,
   "metadata": {},
   "outputs": [],
   "source": [
    "sorted_col_names = sorted(col_names)\n",
    "boston_col_sort = boston[sorted_col_names]\n",
    "boston_col_sort.head()"
   ]
  },
  {
   "cell_type": "code",
   "execution_count": null,
   "metadata": {},
   "outputs": [],
   "source": [
    "user_sort_col = ['AGE', 'B', 'DIS', 'INDUS', 'CHAS', 'NOX', 'LSTAT', 'NOX', 'RAD', 'RM', 'TAX', 'ZN', 'PTRATIO']\n",
    "boston_col_sort = boston[user_sort_col]\n",
    "boston_col_sort.head()"
   ]
  },
  {
   "cell_type": "markdown",
   "metadata": {},
   "source": [
    "## 열 이름 변경"
   ]
  },
  {
   "cell_type": "code",
   "execution_count": null,
   "metadata": {},
   "outputs": [],
   "source": [
    "boston.columns=['x1','x2','x3','x4','x5','x6','x7','x8','x9','x10','x11','x12','x13']\n",
    "boston.head()"
   ]
  },
  {
   "cell_type": "markdown",
   "metadata": {},
   "source": [
    "### 주의사항 :: 열 갯수가 맞지 않을경우 아래와 같이 에러가 발생함"
   ]
  },
  {
   "cell_type": "code",
   "execution_count": null,
   "metadata": {},
   "outputs": [],
   "source": [
    "boston.columns=['x1','x2','x3','x4','x5','x6','x7','x8','x9','x10']\n",
    "boston.head()"
   ]
  },
  {
   "cell_type": "code",
   "execution_count": null,
   "metadata": {},
   "outputs": [],
   "source": [
    "boston.rename(columns={'ZN':'x1', 'AGE':'x2'}, inplace=True)\n",
    "boston.head()"
   ]
  },
  {
   "cell_type": "markdown",
   "metadata": {},
   "source": [
    "## 특정 조건식에 맞는 행 추출"
   ]
  },
  {
   "cell_type": "code",
   "execution_count": null,
   "metadata": {},
   "outputs": [],
   "source": [
    "boston = datasets.load_boston()\n",
    "boston = pd.DataFrame(boston.data, columns=boston.feature_names)\n",
    "boston.head()"
   ]
  },
  {
   "cell_type": "code",
   "execution_count": null,
   "metadata": {},
   "outputs": [],
   "source": [
    "bool_mask = boston['INDUS']>10\n",
    "print(bool_mask)"
   ]
  },
  {
   "cell_type": "code",
   "execution_count": null,
   "metadata": {},
   "outputs": [],
   "source": [
    "indus_over_10 = boston.loc[bool_mask,:]\n",
    "indus_over_10.head()"
   ]
  },
  {
   "cell_type": "code",
   "execution_count": null,
   "metadata": {},
   "outputs": [],
   "source": [
    "mask = (boston['AGE']>10) & (boston['TAX']>300)\n",
    "boston.loc[mask,:]"
   ]
  },
  {
   "cell_type": "markdown",
   "metadata": {},
   "source": [
    "## 실습해보세요\n",
    "\n",
    "1. LSTAT > 20 이거나(or) RM < 5.0 인 데이터를 추출해보세요.\n",
    "\n",
    "2. LSTAT > 20 이거나(or) RM < 5.0 인 데이터 중 열을 'CRIM', 'ZN', 'INDUS' 만 추출하세요. "
   ]
  },
  {
   "cell_type": "code",
   "execution_count": null,
   "metadata": {},
   "outputs": [],
   "source": [
    "# 1. LSTAT > 20 이거나(or) RM < 5.0 인 데이터를 추출해보세요."
   ]
  },
  {
   "cell_type": "code",
   "execution_count": null,
   "metadata": {},
   "outputs": [],
   "source": [
    "# 2. LSTAT > 20 이거나(or) RM < 5.0 인 데이터 중 열을 'CRIM', 'ZN', 'INDUS' 만 추출하세요. "
   ]
  },
  {
   "cell_type": "code",
   "execution_count": null,
   "metadata": {},
   "outputs": [],
   "source": []
  },
  {
   "cell_type": "markdown",
   "metadata": {},
   "source": [
    "## 특정 조건식에 맞는 행 추출 (isin 활용)"
   ]
  },
  {
   "cell_type": "code",
   "execution_count": null,
   "metadata": {},
   "outputs": [],
   "source": [
    "boston.astype({'RAD':'int'})\n",
    "boston.head()"
   ]
  },
  {
   "cell_type": "code",
   "execution_count": null,
   "metadata": {},
   "outputs": [],
   "source": [
    "mask_1 = (boston['RAD'] == 4) | (boston['RAD'] == 5) | (boston['RAD'] == 6)\n",
    "(boston.loc[mask,:]).head()"
   ]
  },
  {
   "cell_type": "code",
   "execution_count": null,
   "metadata": {},
   "outputs": [],
   "source": [
    "mask_2 = boston['RAD'].isin([4,5,6])\n",
    "(boston.loc[mask,:]).head()"
   ]
  },
  {
   "cell_type": "markdown",
   "metadata": {},
   "source": [
    "## 실습해보세요\n",
    "seaborn 패키지에서 데이터를 받아서 아래 설명대로 진행하시면 됩니다. 설치가되어있지 않다면 아래 Pip install seaborn을 실행시키세요\n",
    "\n",
    "1. isin 함수를 이용해서 'sibsp' 변수가 3 또는 4 또는 5인 경우를 추출하세요\n",
    "\n",
    "2. isin 함수를 이용해서 'sex' male 인 경우를 추출하세요"
   ]
  },
  {
   "cell_type": "code",
   "execution_count": null,
   "metadata": {},
   "outputs": [],
   "source": [
    "! pip install seaborn"
   ]
  },
  {
   "cell_type": "code",
   "execution_count": null,
   "metadata": {},
   "outputs": [],
   "source": [
    "import seaborn as sns\n",
    "data = sns.load_dataset('titanic')\n",
    "data.head()"
   ]
  },
  {
   "cell_type": "code",
   "execution_count": null,
   "metadata": {},
   "outputs": [],
   "source": [
    "# isin 함수를 이용해서 'sibsp' 변수가 3 또는 4 또는 5인 경우를 추출하세요"
   ]
  },
  {
   "cell_type": "code",
   "execution_count": null,
   "metadata": {},
   "outputs": [],
   "source": [
    "# isin 함수를 이용해서 'sex' male 인 경우를 추출하세요"
   ]
  },
  {
   "cell_type": "code",
   "execution_count": null,
   "metadata": {},
   "outputs": [],
   "source": []
  }
 ],
 "metadata": {
  "kernelspec": {
   "display_name": "Python 3",
   "language": "python",
   "name": "python3"
  },
  "language_info": {
   "codemirror_mode": {
    "name": "ipython",
    "version": 3
   },
   "file_extension": ".py",
   "mimetype": "text/x-python",
   "name": "python",
   "nbconvert_exporter": "python",
   "pygments_lexer": "ipython3",
   "version": "3.8.3"
  }
 },
 "nbformat": 4,
 "nbformat_minor": 4
}
