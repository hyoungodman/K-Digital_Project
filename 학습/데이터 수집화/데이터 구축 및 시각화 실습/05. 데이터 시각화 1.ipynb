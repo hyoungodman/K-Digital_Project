{
 "cells": [
  {
   "cell_type": "code",
   "execution_count": null,
   "metadata": {},
   "outputs": [],
   "source": [
    "import warnings\n",
    "warnings.filterwarnings(\"ignore\")"
   ]
  },
  {
   "cell_type": "markdown",
   "metadata": {},
   "source": [
    "# 선 그래프"
   ]
  },
  {
   "cell_type": "markdown",
   "metadata": {},
   "source": [
    "## 데이터 로드"
   ]
  },
  {
   "cell_type": "code",
   "execution_count": null,
   "metadata": {},
   "outputs": [],
   "source": [
    "import pandas as pd\n",
    "import matplotlib.pyplot as plt\n",
    "\n",
    "df = pd.read_csv('연도별_매출액_현황.csv', header = 0)"
   ]
  },
  {
   "cell_type": "code",
   "execution_count": null,
   "metadata": {
    "scrolled": true
   },
   "outputs": [],
   "source": [
    "df.head()"
   ]
  },
  {
   "cell_type": "code",
   "execution_count": null,
   "metadata": {},
   "outputs": [],
   "source": [
    "df['연도'] = df['연도'].astype(str)\n",
    "df.set_index('연도', inplace = True)"
   ]
  },
  {
   "cell_type": "markdown",
   "metadata": {},
   "source": [
    "## 그래프 그리기"
   ]
  },
  {
   "cell_type": "markdown",
   "metadata": {},
   "source": [
    "### 기본 선 그래프"
   ]
  },
  {
   "cell_type": "code",
   "execution_count": null,
   "metadata": {},
   "outputs": [],
   "source": [
    "data_total = df['전체']"
   ]
  },
  {
   "cell_type": "code",
   "execution_count": null,
   "metadata": {},
   "outputs": [],
   "source": [
    "data_total.head()"
   ]
  },
  {
   "cell_type": "code",
   "execution_count": null,
   "metadata": {
    "scrolled": true
   },
   "outputs": [],
   "source": [
    "plt.plot(data_total.index, data_total.values)"
   ]
  },
  {
   "cell_type": "markdown",
   "metadata": {},
   "source": [
    "### 그래프 꾸미기"
   ]
  },
  {
   "cell_type": "code",
   "execution_count": null,
   "metadata": {},
   "outputs": [],
   "source": [
    "# 윈도우 OS\n",
    "\n",
    "from matplotlib import font_manager, rc\n",
    "font_path = \"./NanumSquareR.ttf\"\n",
    "font_name = font_manager.FontProperties(fname=font_path).get_name()\n",
    "rc('font', family=font_name)"
   ]
  },
  {
   "cell_type": "code",
   "execution_count": null,
   "metadata": {},
   "outputs": [],
   "source": [
    "# 맥 OS\n",
    "\n",
    "from matplotlib import rc\n",
    "rc('font', family='AppleGothic')"
   ]
  },
  {
   "cell_type": "code",
   "execution_count": null,
   "metadata": {},
   "outputs": [],
   "source": [
    "data_total = df['전체']\n",
    "plt.figure(figsize=(10, 5))\n",
    "plt.xticks(rotation = 'vertical')\n",
    "plt.plot(data_total)\n",
    "\n",
    "plt.title('매출 현황')\n",
    "plt.xlabel('연도')\n",
    "plt.ylabel('백만원')\n",
    "\n",
    "plt.legend(labels=['전체'], loc='best')\n",
    "\n",
    "plt.show()"
   ]
  },
  {
   "cell_type": "code",
   "execution_count": null,
   "metadata": {
    "scrolled": false
   },
   "outputs": [],
   "source": [
    "data_total = df['전체']\n",
    "\n",
    "plt.style.use('ggplot')\n",
    "\n",
    "plt.figure(figsize=(10, 5))\n",
    "plt.xticks(rotation = 'vertical')\n",
    "plt.plot(data_total, marker='o', markersize=5)\n",
    "\n",
    "plt.title('매출 현황', size=30)\n",
    "plt.xlabel('연도', size=20)\n",
    "plt.ylabel('백만원', size=20)\n",
    "\n",
    "plt.legend(labels=['전체'], loc='best', fontsize=15)\n",
    "\n",
    "plt.show()"
   ]
  },
  {
   "cell_type": "code",
   "execution_count": null,
   "metadata": {},
   "outputs": [],
   "source": [
    "for style in plt.style.available:\n",
    "    print(style)"
   ]
  },
  {
   "cell_type": "code",
   "execution_count": null,
   "metadata": {
    "scrolled": true
   },
   "outputs": [],
   "source": [
    "data_total = df['전체']\n",
    "\n",
    "plt.style.use('bmh')\n",
    "\n",
    "plt.figure(figsize=(10, 5))\n",
    "plt.xticks(rotation = 'vertical')\n",
    "plt.plot(data_total, marker='o', markersize=5)\n",
    "\n",
    "plt.title('매출 현황', size=30)\n",
    "plt.xlabel('연도', size=20)\n",
    "plt.ylabel('백만원', size=20)\n",
    "\n",
    "plt.legend(labels=['전체'], loc='best', fontsize=15)\n",
    "\n",
    "plt.show()"
   ]
  },
  {
   "cell_type": "markdown",
   "metadata": {},
   "source": [
    "## 화면 분할하여 그래프 그리기 (axe)"
   ]
  },
  {
   "cell_type": "code",
   "execution_count": null,
   "metadata": {
    "scrolled": false
   },
   "outputs": [],
   "source": [
    "data_total = df['전체']\n",
    "data_general = df['일반통상']\n",
    "\n",
    "plt.style.use('ggplot')\n",
    "\n",
    "fig = plt.figure(figsize=(10, 10))\n",
    "ax1 = fig.add_subplot(2,1,1)\n",
    "ax2 = fig.add_subplot(2,1,2)\n",
    "\n",
    "ax1.plot(data_total, marker='o', markersize=10, label='전체')\n",
    "ax2.plot(data_general, marker='o', markerfacecolor='green', markersize=10,\n",
    "         color='green', linewidth=2, label='일반통상')\n",
    "\n",
    "ax1.legend(loc='best')\n",
    "ax2.legend(loc='best')\n",
    "\n",
    "ax1.set_ylim(0, 600000)\n",
    "ax2.set_ylim(5000, 40000)\n",
    "\n",
    "ax1.set_xticklabels(data_total.index, rotation=60)\n",
    "ax2.set_xticklabels(data_general.index, rotation=60)\n",
    "\n",
    "plt.show()"
   ]
  },
  {
   "cell_type": "markdown",
   "metadata": {},
   "source": [
    "### 같은 화면에 그래프 추가"
   ]
  },
  {
   "cell_type": "code",
   "execution_count": null,
   "metadata": {},
   "outputs": [],
   "source": [
    "plt.style.use('ggplot')\n",
    "\n",
    "fig = plt.figure(figsize=(8, 5))\n",
    "ax = fig.add_subplot(1,1,1)\n",
    "\n",
    "ax.plot(df.index, df['전체'], marker='o', markersize=10, linewidth=2, label='전체')\n",
    "ax.plot(df.index, df['소포'], marker='o', markersize=10, linewidth=2, label='소포')\n",
    "ax.plot(df.index, df['국제특급'], marker='o', markersize=10, linewidth=2, label='국제특급')\n",
    "ax.legend(loc='best')\n",
    "\n",
    "ax.set_title('항목별 매출 현황', size=20)\n",
    "ax.set_xlabel('연도', size=10)\n",
    "ax.set_ylabel('백만원', size=10)\n",
    "\n",
    "ax.set_ylim(0, 600000)\n",
    "\n",
    "ax.set_xticklabels(df.index, rotation=60)\n",
    "\n",
    "plt.show()"
   ]
  },
  {
   "cell_type": "markdown",
   "metadata": {},
   "source": [
    "### 화면 4분할 그래프"
   ]
  },
  {
   "cell_type": "code",
   "execution_count": null,
   "metadata": {
    "scrolled": false
   },
   "outputs": [],
   "source": [
    "plt.style.use('ggplot')\n",
    "\n",
    "fig = plt.figure(figsize=(16, 10))\n",
    "ax1 = fig.add_subplot(2,2,1)\n",
    "ax2 = fig.add_subplot(2,2,2)\n",
    "ax3 = fig.add_subplot(2,2,3)\n",
    "ax4 = fig.add_subplot(2,2,4)\n",
    "\n",
    "ax1.plot(df.index, df['전체'], marker='o', markersize=5, linewidth=2)\n",
    "ax2.plot(df.index, df['일반통상'], marker='o', markersize=5, linewidth=2)\n",
    "ax3.plot(df.index, df['국제특급'], marker='o', markersize=5, linewidth=2)\n",
    "ax4.plot(df.index, df['소포'], marker='o', markersize=5, linewidth=2)\n",
    "\n",
    "ax1.set_title('전체')\n",
    "ax2.set_title('일반통상')\n",
    "ax3.set_title('국제특급')\n",
    "ax4.set_title('소포')\n",
    "\n",
    "ax1.set_xticklabels(df.index, rotation=90)\n",
    "ax2.set_xticklabels(df.index, rotation=90)\n",
    "ax3.set_xticklabels(df.index, rotation=90)\n",
    "ax4.set_xticklabels(df.index, rotation=90)\n",
    "\n",
    "plt.show()"
   ]
  },
  {
   "cell_type": "markdown",
   "metadata": {},
   "source": [
    "# 면적 그래프"
   ]
  },
  {
   "cell_type": "markdown",
   "metadata": {},
   "source": [
    "## stacked = False"
   ]
  },
  {
   "cell_type": "code",
   "execution_count": null,
   "metadata": {
    "scrolled": false
   },
   "outputs": [],
   "source": [
    "df_3 = df[['일반통상', '특수통상', '소포']]\n",
    "\n",
    "df_3.plot(kind='area', stacked=False, alpha=0.2, figsize=(10, 5))\n",
    "\n",
    "plt.title('항목별 매출 현황', size=20)\n",
    "plt.xlabel('연도', size=10)\n",
    "plt.ylabel('백만원', size=10)\n",
    "plt.legend(loc='best')\n",
    "\n",
    "plt.show()"
   ]
  },
  {
   "cell_type": "markdown",
   "metadata": {},
   "source": [
    "## stacked = True"
   ]
  },
  {
   "cell_type": "code",
   "execution_count": null,
   "metadata": {},
   "outputs": [],
   "source": [
    "df_3 = df[['일반통상', '특수통상', '소포']]\n",
    "\n",
    "df_3.plot(kind='area', stacked=True, alpha=0.2, figsize=(10, 5))\n",
    "\n",
    "plt.title('항목별 매출 현황', size=20)\n",
    "plt.xlabel('연도', size=10)\n",
    "plt.ylabel('백만원', size=10)\n",
    "plt.legend(loc='best')\n",
    "\n",
    "plt.show()"
   ]
  },
  {
   "cell_type": "markdown",
   "metadata": {},
   "source": [
    "# 막대 그래프"
   ]
  },
  {
   "cell_type": "markdown",
   "metadata": {},
   "source": [
    "## 가로형"
   ]
  },
  {
   "cell_type": "code",
   "execution_count": null,
   "metadata": {},
   "outputs": [],
   "source": [
    "df_3 = df[['일반통상', '특수통상', '소포']]\n",
    "\n",
    "df_3.plot(kind='bar', width=1.0, color=['orange','green','red'], figsize=(10, 5))\n",
    "\n",
    "plt.title('항목별 매출 현황', size=20)\n",
    "plt.xlabel('연도', size=10)\n",
    "plt.ylabel('백만원', size=10)\n",
    "plt.legend(loc='best')\n",
    "\n",
    "plt.show()"
   ]
  },
  {
   "cell_type": "markdown",
   "metadata": {},
   "source": [
    "## 세로형"
   ]
  },
  {
   "cell_type": "code",
   "execution_count": null,
   "metadata": {},
   "outputs": [],
   "source": [
    "df_sum = df.sum(axis=0)\n",
    "df_sum = df_sum.sort_values(ascending=True)\n",
    "print(df_sum)"
   ]
  },
  {
   "cell_type": "code",
   "execution_count": null,
   "metadata": {
    "scrolled": false
   },
   "outputs": [],
   "source": [
    "df_sum.plot(kind='barh', width=0.5, color='blue', figsize=(8, 4))\n",
    "\n",
    "plt.title('항목별 매출 합계', size=20)\n",
    "plt.xlabel('백만원', size=10)\n",
    "plt.ylabel('항목', size=10)\n",
    "\n",
    "plt.show()"
   ]
  },
  {
   "cell_type": "markdown",
   "metadata": {},
   "source": [
    "# 기타 그래프"
   ]
  },
  {
   "cell_type": "markdown",
   "metadata": {},
   "source": [
    "## 히스토그램"
   ]
  },
  {
   "cell_type": "code",
   "execution_count": null,
   "metadata": {},
   "outputs": [],
   "source": [
    "import pandas as pd\n",
    "import seaborn as sns\n",
    "import matplotlib.pyplot as plt\n",
    "\n",
    "iris = sns.load_dataset('iris')\n",
    "iris.head()"
   ]
  },
  {
   "cell_type": "code",
   "execution_count": null,
   "metadata": {},
   "outputs": [],
   "source": [
    "plt.style.use('classic')\n",
    "\n",
    "iris['sepal_length'].plot(kind='hist', bins=10,\n",
    "                          color='blue', figsize=(8,4))\n",
    "\n",
    "plt.title('histogram')\n",
    "plt.xlabel('sepal_length')\n",
    "plt.show()"
   ]
  },
  {
   "cell_type": "code",
   "execution_count": null,
   "metadata": {},
   "outputs": [],
   "source": [
    "plt.style.use('classic')\n",
    "\n",
    "iris['sepal_length'].plot(kind='hist', bins=5,\n",
    "                          color='blue', figsize=(8,4))\n",
    "\n",
    "plt.title('histogram')\n",
    "plt.xlabel('sepal_length')\n",
    "plt.show()"
   ]
  },
  {
   "cell_type": "markdown",
   "metadata": {},
   "source": [
    "## 산점도"
   ]
  },
  {
   "cell_type": "code",
   "execution_count": null,
   "metadata": {},
   "outputs": [],
   "source": [
    "plt.style.use('ggplot')\n",
    "\n",
    "iris.plot(kind='scatter', x='sepal_length', y='petal_length', color='blue', figsize=(8,4))\n",
    "\n",
    "plt.title('scatter plot')\n",
    "plt.xlabel('sepal_length')\n",
    "plt.ylabel('petal_length')\n",
    "plt.show()"
   ]
  },
  {
   "cell_type": "code",
   "execution_count": null,
   "metadata": {},
   "outputs": [],
   "source": [
    "plt.style.use('ggplot')\n",
    "\n",
    "petal_width_size = iris.petal_width/iris.petal_width.max()*200\n",
    "\n",
    "iris.plot(kind='scatter', x='sepal_length', y='petal_length',\n",
    "          s=petal_width_size, color='blue', alpha = 0.3, figsize=(8,4))\n",
    "\n",
    "plt.title('bubble chart')\n",
    "plt.xlabel('sepal_length')\n",
    "plt.ylabel('petal_length')\n",
    "plt.show()"
   ]
  },
  {
   "cell_type": "markdown",
   "metadata": {},
   "source": [
    "## 파이 차트"
   ]
  },
  {
   "cell_type": "code",
   "execution_count": null,
   "metadata": {
    "scrolled": false
   },
   "outputs": [],
   "source": [
    "iris = sns.load_dataset('iris')\n",
    "\n",
    "df_species = iris['species'].value_counts()\n",
    "print(df_species)\n",
    "\n",
    "df_species.plot(kind='pie', figsize=(5,5), autopct='%1.1f%%')\n",
    "plt.title('species count')\n",
    "plt.ylabel('')\n",
    "\n",
    "plt.show()"
   ]
  },
  {
   "cell_type": "markdown",
   "metadata": {},
   "source": [
    "## 박스 플롯"
   ]
  },
  {
   "cell_type": "code",
   "execution_count": null,
   "metadata": {},
   "outputs": [],
   "source": [
    "plt.style.use('ggplot')\n",
    "\n",
    "fig = plt.figure(figsize=(8, 4))\n",
    "\n",
    "plt.boxplot(x=[iris['sepal_length'], iris['sepal_width'], iris['petal_length'], iris['petal_width']],\n",
    "            labels=['sepal_length', 'sepal_width', 'petal_length', 'petal_width'])\n",
    "\n",
    "plt.title('box plot')\n",
    "plt.ylabel('length')\n",
    "plt.show()"
   ]
  }
 ],
 "metadata": {
  "kernelspec": {
   "display_name": "Python 3",
   "language": "python",
   "name": "python3"
  },
  "language_info": {
   "codemirror_mode": {
    "name": "ipython",
    "version": 3
   },
   "file_extension": ".py",
   "mimetype": "text/x-python",
   "name": "python",
   "nbconvert_exporter": "python",
   "pygments_lexer": "ipython3",
   "version": "3.7.6"
  }
 },
 "nbformat": 4,
 "nbformat_minor": 4
}
