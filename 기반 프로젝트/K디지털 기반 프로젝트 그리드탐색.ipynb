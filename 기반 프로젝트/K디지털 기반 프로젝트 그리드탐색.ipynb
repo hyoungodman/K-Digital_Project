{
 "cells": [
  {
   "cell_type": "code",
   "execution_count": 4,
   "id": "e8de7f6e",
   "metadata": {},
   "outputs": [],
   "source": [
    "import pandas as pd\n",
    "from sklearn.preprocessing import StandardScaler\n",
    "from sklearn.impute import SimpleImputer\n",
    "\n",
    "# 데이터 불러오기\n",
    "data = pd.read_csv('C:/Users/dong_/OneDrive/바탕 화면/K-디지털 프로젝트/final_data.csv')  # 데이터 파일 경로에 맞게 수정\n",
    "\n",
    "# X와 y 추출\n",
    "X = data.drop('TARGET', axis=1)  # 'TARGET' 컬럼을 제외한 나머지 컬럼들을 X로 설정\n",
    "y = data['TARGET']  # 'TARGET' 컬럼을 y로 설정\n",
    "\n",
    "\n",
    "# 결측치 처리\n",
    "imputer = SimpleImputer(strategy='mean')\n",
    "X_imputed = imputer.fit_transform(X)\n",
    "\n",
    "# 특성 스케일링\n",
    "scaler = StandardScaler()\n",
    "X_scaled = scaler.fit_transform(X_imputed)\n"
   ]
  },
  {
   "cell_type": "code",
   "execution_count": 5,
   "id": "970464dd",
   "metadata": {
    "collapsed": true
   },
   "outputs": [
    {
     "name": "stderr",
     "output_type": "stream",
     "text": [
      "C:\\anaconda3\\envs\\nam\\lib\\site-packages\\sklearn\\feature_selection\\_univariate_selection.py:112: UserWarning: Features [1657 1676 1678 1696 1811 1818 1865 1869 1916 1941 1947 1956 2009 2032\n",
      " 2137 2155 2178 2194 2197 2236 2237 2315 2329 2345 2399 2487 2489 2523\n",
      " 2538 2545 2547 2558 2579 2630 2637 2708 2734 2747 2794 2840 2850 2853\n",
      " 2932 2975 3005 3016 3035 3070 3083 3100 3128 3158 3160 3228 3230 3259\n",
      " 3321 3372 3377 3411 3432 3481 3519 3531 3554 3560 3579 3659 3683 3718\n",
      " 3746 3777 3801 3819 3838 3854 3880 3891 3909 3928 3945 3963 3981 3999] are constant.\n",
      "  warnings.warn(\"Features %s are constant.\" % constant_features_idx, UserWarning)\n",
      "C:\\anaconda3\\envs\\nam\\lib\\site-packages\\sklearn\\feature_selection\\_univariate_selection.py:113: RuntimeWarning: invalid value encountered in divide\n",
      "  f = msb / msw\n"
     ]
    },
    {
     "ename": "NameError",
     "evalue": "name 'X_text' is not defined",
     "output_type": "error",
     "traceback": [
      "\u001b[1;31m---------------------------------------------------------------------------\u001b[0m",
      "\u001b[1;31mNameError\u001b[0m                                 Traceback (most recent call last)",
      "Cell \u001b[1;32mIn[5], line 10\u001b[0m\n\u001b[0;32m      8\u001b[0m \u001b[38;5;66;03m# 특성 추출 (예시: 텍스트 데이터)\u001b[39;00m\n\u001b[0;32m      9\u001b[0m vectorizer \u001b[38;5;241m=\u001b[39m TfidfVectorizer()\n\u001b[1;32m---> 10\u001b[0m X_vectorized \u001b[38;5;241m=\u001b[39m vectorizer\u001b[38;5;241m.\u001b[39mfit_transform(\u001b[43mX_text\u001b[49m)\n",
      "\u001b[1;31mNameError\u001b[0m: name 'X_text' is not defined"
     ]
    }
   ],
   "source": [
    "from sklearn.feature_selection import SelectKBest\n",
    "from sklearn.feature_extraction.text import TfidfVectorizer\n",
    "\n",
    "# 특성 선택\n",
    "selector = SelectKBest(k=10)\n",
    "X_selected = selector.fit_transform(X_scaled, y)\n",
    "\n",
    "# 특성 추출 (예시: 텍스트 데이터)\n",
    "vectorizer = TfidfVectorizer()\n",
    "X_vectorized = vectorizer.fit_transform(X_text)"
   ]
  },
  {
   "cell_type": "code",
   "execution_count": null,
   "id": "21b32ddd",
   "metadata": {},
   "outputs": [],
   "source": [
    "from sklearn.ensemble import RandomForestClassifier\n",
    "from sklearn.linear_model import LogisticRegression\n",
    "\n",
    "# 분류 모델 선택\n",
    "model = RandomForestClassifier()\n",
    "model.fit(X_selected, y)\n",
    "\n",
    "# 회귀 모델 선택\n",
    "model = LogisticRegression()\n",
    "model.fit(X_selected, y)"
   ]
  },
  {
   "cell_type": "code",
   "execution_count": null,
   "id": "6ac1ad15",
   "metadata": {},
   "outputs": [],
   "source": [
    "from sklearn.model_selection import GridSearchCV\n",
    "\n",
    "# 그리드 탐색을 통한 하이퍼파라미터 조정\n",
    "param_grid = {'n_estimators': [100, 200, 300], 'max_depth': [3, 5, 7]}\n",
    "grid_search = GridSearchCV(model, param_grid, cv=5)\n",
    "grid_search.fit(X_selected, y)\n",
    "best_model = grid_search.best_estimator_"
   ]
  },
  {
   "cell_type": "code",
   "execution_count": null,
   "id": "7f7b25f6",
   "metadata": {},
   "outputs": [],
   "source": []
  }
 ],
 "metadata": {
  "kernelspec": {
   "display_name": "Python 3 (ipykernel)",
   "language": "python",
   "name": "python3"
  },
  "language_info": {
   "codemirror_mode": {
    "name": "ipython",
    "version": 3
   },
   "file_extension": ".py",
   "mimetype": "text/x-python",
   "name": "python",
   "nbconvert_exporter": "python",
   "pygments_lexer": "ipython3",
   "version": "3.9.15"
  }
 },
 "nbformat": 4,
 "nbformat_minor": 5
}
