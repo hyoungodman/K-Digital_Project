{
 "cells": [
  {
   "cell_type": "code",
   "execution_count": 1,
   "id": "e5094dcd",
   "metadata": {},
   "outputs": [],
   "source": [
    "import pandas as pd"
   ]
  },
  {
   "cell_type": "code",
   "execution_count": 3,
   "id": "93521bb6",
   "metadata": {},
   "outputs": [],
   "source": [
    "data = pd.read_csv('../data/final_data.csv')"
   ]
  },
  {
   "cell_type": "code",
   "execution_count": 10,
   "id": "47b54cc5",
   "metadata": {},
   "outputs": [
    {
     "name": "stdout",
     "output_type": "stream",
     "text": [
      "훈련 세트 크기: (5586, 4009)\n",
      "검증 세트 크기: (1863, 4009)\n",
      "테스트 세트 크기: (3193, 4009)\n"
     ]
    }
   ],
   "source": [
    "from sklearn.model_selection import train_test_split\n",
    "\n",
    "# 데이터 준비\n",
    "X = data.iloc[:, 1:]\n",
    "y = data['TARGET']\n",
    "\n",
    "# 데이터 분할\n",
    "X_train_val, X_test, y_train_val, y_test = train_test_split(X, y, test_size=0.3, random_state=42)\n",
    "X_train, X_val, y_train, y_val = train_test_split(X_train_val, y_train_val, test_size=0.25, random_state=42)\n",
    "\n",
    "# 각 세트의 크기 확인\n",
    "print(\"훈련 세트 크기:\", X_train.shape)\n",
    "print(\"검증 세트 크기:\", X_val.shape)\n",
    "print(\"테스트 세트 크기:\", X_test.shape)"
   ]
  },
  {
   "cell_type": "code",
   "execution_count": 11,
   "id": "ef29f5d0",
   "metadata": {},
   "outputs": [],
   "source": [
    "from sklearn.preprocessing import StandardScaler\n",
    "\n",
    "# StandardScaler 객체 생성\n",
    "scaler = StandardScaler()\n",
    "\n",
    "# 훈련 세트를 사용하여 스케일링 학습\n",
    "scaler.fit(X_train)\n",
    "\n",
    "# 훈련, 검증, 테스트 세트에 대해 동일한 스케일링 적용\n",
    "X_train_scaled = scaler.transform(X_train)\n",
    "X_val_scaled = scaler.transform(X_val)\n",
    "X_test_scaled = scaler.transform(X_test)"
   ]
  },
  {
   "cell_type": "code",
   "execution_count": 19,
   "id": "2beb425a",
   "metadata": {},
   "outputs": [
    {
     "data": {
      "text/plain": [
       "array([[1.        , 0.        , 0.        , ..., 0.        , 0.42857143,\n",
       "        0.04039024],\n",
       "       [1.        , 0.        , 0.        , ..., 0.22222222, 0.57142857,\n",
       "        0.03568368],\n",
       "       [0.        , 0.        , 1.        , ..., 0.22222222, 0.14285714,\n",
       "        0.03287557],\n",
       "       ...,\n",
       "       [0.        , 1.        , 0.        , ..., 0.        , 0.5       ,\n",
       "        0.04148667],\n",
       "       [0.        , 1.        , 0.        , ..., 0.55555556, 0.57142857,\n",
       "        0.04080772],\n",
       "       [0.        , 1.        , 0.        , ..., 0.        , 0.35714286,\n",
       "        0.19281932]])"
      ]
     },
     "execution_count": 19,
     "metadata": {},
     "output_type": "execute_result"
    }
   ],
   "source": [
    "X_train_scaled"
   ]
  },
  {
   "cell_type": "code",
   "execution_count": 17,
   "id": "eb074006",
   "metadata": {},
   "outputs": [
    {
     "data": {
      "text/plain": [
       "array([[0.        , 0.        , 0.        , ..., 0.11111111, 0.42857143,\n",
       "        0.03446639],\n",
       "       [0.        , 0.        , 0.        , ..., 0.11111111, 0.21428571,\n",
       "        0.03596273],\n",
       "       [1.        , 0.        , 0.        , ..., 0.22222222, 0.42857143,\n",
       "        0.20484059],\n",
       "       ...,\n",
       "       [0.        , 0.        , 0.        , ..., 0.        , 0.35714286,\n",
       "        0.03203182],\n",
       "       [0.        , 1.        , 0.        , ..., 0.11111111, 0.42857143,\n",
       "        0.04031773],\n",
       "       [0.        , 0.        , 1.        , ..., 0.44444444, 0.35714286,\n",
       "        0.04125157]])"
      ]
     },
     "execution_count": 17,
     "metadata": {},
     "output_type": "execute_result"
    }
   ],
   "source": [
    "X_test_scaled"
   ]
  },
  {
   "cell_type": "code",
   "execution_count": 13,
   "id": "03b84287",
   "metadata": {},
   "outputs": [],
   "source": [
    "from sklearn.preprocessing import MinMaxScaler\n",
    "\n",
    "# MinMaxScaler 객체 생성\n",
    "scaler = MinMaxScaler()\n",
    "\n",
    "# 훈련 세트를 사용하여 스케일링 학습\n",
    "scaler.fit(X_train)\n",
    "\n",
    "# 훈련, 검증, 테스트 세트에 대해 동일한 스케일링 적용\n",
    "X_train_scaled = scaler.transform(X_train)\n",
    "X_val_scaled = scaler.transform(X_val)\n",
    "X_test_scaled = scaler.transform(X_test)"
   ]
  },
  {
   "cell_type": "code",
   "execution_count": 16,
   "id": "5a21898a",
   "metadata": {},
   "outputs": [],
   "source": [
    "from sklearn.model_selection import StratifiedKFold\n",
    "\n",
    "# StratifiedKFold 객체 생성\n",
    "skf = StratifiedKFold(n_splits=5, random_state=42, shuffle=True)\n",
    "\n",
    "# 데이터를 스케일링한 후의 특성과 타겟 데이터 사용\n",
    "X_scaled = X_train_scaled  # 스케일링한 데이터로 대체해주세요\n",
    "y = y_train\n",
    "\n",
    "# 교차 검증 수행\n",
    "for train_index, val_index in skf.split(X_scaled, y):\n",
    "    X_train_fold, X_val_fold = X_scaled[train_index], X_scaled[val_index]\n",
    "    y_train_fold, y_val_fold = y.iloc[train_index], y.iloc[val_index]\n",
    "    \n",
    "    # 훈련 데이터를 사용하여 모델 학습\n",
    "    # 검증 데이터를 사용하여 모델 성능 평가 또는 하이퍼파라미터 튜닝 등 수행\n"
   ]
  },
  {
   "cell_type": "code",
   "execution_count": null,
   "id": "0fce6f6b",
   "metadata": {},
   "outputs": [],
   "source": []
  }
 ],
 "metadata": {
  "kernelspec": {
   "display_name": "Python 3 (ipykernel)",
   "language": "python",
   "name": "python3"
  },
  "language_info": {
   "codemirror_mode": {
    "name": "ipython",
    "version": 3
   },
   "file_extension": ".py",
   "mimetype": "text/x-python",
   "name": "python",
   "nbconvert_exporter": "python",
   "pygments_lexer": "ipython3",
   "version": "3.9.15"
  }
 },
 "nbformat": 4,
 "nbformat_minor": 5
}
