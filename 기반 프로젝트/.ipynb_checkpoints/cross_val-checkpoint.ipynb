{
 "cells": [
  {
   "cell_type": "code",
   "execution_count": 1,
   "metadata": {
    "id": "WrQOvNuQenLJ"
   },
   "outputs": [],
   "source": [
    "import pandas as pd\n",
    "\n",
    "from sklearn.model_selection import train_test_split, StratifiedKFold"
   ]
  },
  {
   "cell_type": "code",
   "execution_count": 2,
   "metadata": {
    "id": "9MKvldjSeVRU"
   },
   "outputs": [],
   "source": [
    "data = pd.read_csv('C:/Users/dong_/OneDrive/바탕 화면/K-디지털 프로젝트/final_data.csv', header = 0)"
   ]
  },
  {
   "cell_type": "code",
   "execution_count": 3,
   "metadata": {
    "id": "XR2Bo4mNeVUU"
   },
   "outputs": [],
   "source": [
    "X = data.iloc[:, 1:]\n",
    "y = data['TARGET']\n",
    "\n",
    "train_x, test_x, train_y, test_y = train_test_split(X, y, test_size=0.3, stratify = y, random_state = 2023)"
   ]
  },
  {
   "cell_type": "code",
   "execution_count": 4,
   "metadata": {
    "colab": {
     "base_uri": "https://localhost:8080/"
    },
    "id": "IK-8MdBkoKNr",
    "outputId": "e65a376b-be6a-426b-cdf1-0450f6eccdac"
   },
   "outputs": [
    {
     "name": "stdout",
     "output_type": "stream",
     "text": [
      "7449 3193\n"
     ]
    }
   ],
   "source": [
    "print(len(train_x), len(test_x))"
   ]
  },
  {
   "cell_type": "code",
   "execution_count": 5,
   "metadata": {
    "id": "ttOKPOIBeVXa"
   },
   "outputs": [],
   "source": [
    "from sklearn.preprocessing import StandardScaler, MinMaxScaler\n",
    "\n",
    "scaler = StandardScaler()  #MinMaxScaler()\n",
    "\n",
    "scaled_train_x = scaler.fit_transform(train_x) #array\n",
    "scaled_test_x = scaler.transform(test_x) #array\n",
    "\n",
    "scaled_train_x = pd.DataFrame(scaled_train_x)\n",
    "scaled_test_x = pd.DataFrame(scaled_test_x)"
   ]
  },
  {
   "cell_type": "code",
   "execution_count": 6,
   "metadata": {
    "id": "x9ZoiWpNlAYZ"
   },
   "outputs": [],
   "source": [
    "train_y = train_y.reset_index(drop=True)\n",
    "test_y = test_y.reset_index(drop=True)"
   ]
  },
  {
   "cell_type": "code",
   "execution_count": 7,
   "metadata": {
    "id": "vZdP1tg6gB3T"
   },
   "outputs": [],
   "source": [
    "kfold = StratifiedKFold(n_splits=3)"
   ]
  },
  {
   "cell_type": "code",
   "execution_count": 8,
   "metadata": {
    "colab": {
     "base_uri": "https://localhost:8080/"
    },
    "id": "Ff9qr5dEgB6R",
    "outputId": "5679cb7f-aa1e-4c02-e681-29e1248a9660"
   },
   "outputs": [
    {
     "name": "stdout",
     "output_type": "stream",
     "text": [
      "0 Fold Train Size: (4966, 4009), (4966,)\n",
      "0 Fold Valid Size: (2483, 4009), (2483,)\n",
      "1 Fold Train Size: (4966, 4009), (4966,)\n",
      "1 Fold Valid Size: (2483, 4009), (2483,)\n",
      "2 Fold Train Size: (4966, 4009), (4966,)\n",
      "2 Fold Valid Size: (2483, 4009), (2483,)\n"
     ]
    }
   ],
   "source": [
    "for i, (train_idx, valid_idx) in enumerate(kfold.split(train_x, train_y)): #3번 iteration이 돌면서 split을 train-valid로 나눠서 할꺼야\n",
    "\n",
    "  tr_x = scaled_train_x.iloc[train_idx, :] #dataframe 형태 #tr_x.shape -> train_index 개수 X 4003  train_index:valid_index = 2:1\n",
    "  val_x = scaled_train_x.iloc[valid_idx, :]  # -> valid_index 개수 X 4003\n",
    "\n",
    "  tr_y = train_y[train_idx] #series  1차원\n",
    "  val_y = train_y[valid_idx]\n",
    "\n",
    "  print(f'{i} Fold Train Size: {tr_x.shape}, {tr_y.shape}')\n",
    "  print(f'{i} Fold Valid Size: {val_x.shape}, {val_y.shape}')"
   ]
  },
  {
   "cell_type": "code",
   "execution_count": 9,
   "metadata": {},
   "outputs": [
    {
     "name": "stdout",
     "output_type": "stream",
     "text": [
      "0 Fold Train Size: (4966, 4009), (4966,)\n",
      "0 Fold Valid Size: (2483, 4009), (2483,)\n",
      "1 Fold Train Size: (4966, 4009), (4966,)\n",
      "1 Fold Valid Size: (2483, 4009), (2483,)\n",
      "2 Fold Train Size: (4966, 4009), (4966,)\n",
      "2 Fold Valid Size: (2483, 4009), (2483,)\n"
     ]
    }
   ],
   "source": [
    "for i, (train_idx, valid_idx) in enumerate(kfold.split(train_x, train_y)):\n",
    "\n",
    "  tr_x = scaled_train_x.iloc[train_idx, :] \n",
    "  val_x = scaled_train_x.iloc[valid_idx, :]  \n",
    "    \n",
    "  tr_y = train_y[train_idx] #series  1차원\n",
    "  val_y = train_y[valid_idx]\n",
    "\n",
    "  print(f'{i} Fold Train Size: {tr_x.shape}, {tr_y.shape}')\n",
    "  print(f'{i} Fold Valid Size: {val_x.shape}, {val_y.shape}')"
   ]
  },
  {
   "cell_type": "code",
   "execution_count": null,
   "metadata": {},
   "outputs": [],
   "source": [
    "import numpy as np\n",
    "from scipy.cluster.hierarchy import linkage, dendrogram\n",
    "import matplotlib.pyplot as plt\n",
    "\n",
    "\n",
    "# 병합적 계층적 군집화 수행\n",
    "clusters = linkage(data, method='single')  # 병합 방법 선택\n",
    "\n",
    "# 덴드로그램 시각화\n",
    "plt.figure(figsize=(10, 6))\n",
    "dendrogram(clusters)\n",
    "plt.xlabel('Data Points')\n",
    "plt.ylabel('Distance')\n",
    "plt.title('Dendrogram')\n",
    "plt.show()"
   ]
  },
  {
   "cell_type": "code",
   "execution_count": null,
   "metadata": {},
   "outputs": [],
   "source": [
    "import pandas as pd\n",
    "from sklearn.linear_model import LogisticRegression\n",
    "\n",
    "# 데이터 불러오기\n",
    "data = pd.read_csv('C:/Users/dong_/OneDrive/바탕 화면/K-디지털 프로젝트/final_data.csv')  # 데이터 파일 경로에 맞게 수정\n",
    "\n",
    "# X와 y 추출\n",
    "X = data.drop('TARGET', axis=1)  # 'TARGET' 컬럼을 제외한 나머지 컬럼들을 X로 설정\n",
    "y = data['TARGET']  # 'TARGET' 컬럼을 y로 설정\n",
    "\n",
    "# 로지스틱 회귀 모델 생성 및 훈련\n",
    "model = LogisticRegression()\n",
    "model.fit(X, y)\n",
    "\n",
    "# 새로운 데이터에 대한 예측\n",
    "new_data = data  # 예측할 새로운 데이터\n",
    "predicted_labels = model.predict(train_x)"
   ]
  },
  {
   "cell_type": "code",
   "execution_count": null,
   "metadata": {},
   "outputs": [],
   "source": []
  }
 ],
 "metadata": {
  "colab": {
   "provenance": []
  },
  "kernelspec": {
   "display_name": "Python 3 (ipykernel)",
   "language": "python",
   "name": "python3"
  },
  "language_info": {
   "codemirror_mode": {
    "name": "ipython",
    "version": 3
   },
   "file_extension": ".py",
   "mimetype": "text/x-python",
   "name": "python",
   "nbconvert_exporter": "python",
   "pygments_lexer": "ipython3",
   "version": "3.9.15"
  }
 },
 "nbformat": 4,
 "nbformat_minor": 1
}
