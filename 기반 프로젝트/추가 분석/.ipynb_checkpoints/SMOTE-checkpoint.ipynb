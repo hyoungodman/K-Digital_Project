{
 "cells": [
  {
   "cell_type": "code",
   "execution_count": 1,
   "id": "dbae6e4d",
   "metadata": {
    "scrolled": true
   },
   "outputs": [
    {
     "ename": "ModuleNotFoundError",
     "evalue": "No module named 'imblearn'",
     "output_type": "error",
     "traceback": [
      "\u001b[1;31m---------------------------------------------------------------------------\u001b[0m",
      "\u001b[1;31mModuleNotFoundError\u001b[0m                       Traceback (most recent call last)",
      "\u001b[1;32m~\\AppData\\Local\\Temp\\ipykernel_18592\\3397477363.py\u001b[0m in \u001b[0;36m<module>\u001b[1;34m\u001b[0m\n\u001b[0;32m      3\u001b[0m \u001b[1;32mfrom\u001b[0m \u001b[0msklearn\u001b[0m\u001b[1;33m.\u001b[0m\u001b[0mmodel_selection\u001b[0m \u001b[1;32mimport\u001b[0m \u001b[0mtrain_test_split\u001b[0m\u001b[1;33m\u001b[0m\u001b[1;33m\u001b[0m\u001b[0m\n\u001b[0;32m      4\u001b[0m \u001b[1;32mfrom\u001b[0m \u001b[0msklearn\u001b[0m\u001b[1;33m.\u001b[0m\u001b[0mmetrics\u001b[0m \u001b[1;32mimport\u001b[0m \u001b[0maccuracy_score\u001b[0m\u001b[1;33m\u001b[0m\u001b[1;33m\u001b[0m\u001b[0m\n\u001b[1;32m----> 5\u001b[1;33m \u001b[1;32mfrom\u001b[0m \u001b[0mimblearn\u001b[0m\u001b[1;33m.\u001b[0m\u001b[0mover_sampling\u001b[0m \u001b[1;32mimport\u001b[0m \u001b[0mSMOTE\u001b[0m\u001b[1;33m\u001b[0m\u001b[1;33m\u001b[0m\u001b[0m\n\u001b[0m\u001b[0;32m      6\u001b[0m \u001b[1;33m\u001b[0m\u001b[0m\n\u001b[0;32m      7\u001b[0m \u001b[1;31m# 데이터 불러오기\u001b[0m\u001b[1;33m\u001b[0m\u001b[1;33m\u001b[0m\u001b[0m\n",
      "\u001b[1;31mModuleNotFoundError\u001b[0m: No module named 'imblearn'"
     ]
    }
   ],
   "source": [
    "import pandas as pd\n",
    "from sklearn.linear_model import LogisticRegression\n",
    "from sklearn.model_selection import train_test_split\n",
    "from sklearn.metrics import accuracy_score\n",
    "from imblearn.over_sampling import SMOTE\n",
    "\n",
    "# 데이터 불러오기\n",
    "data = pd.read_csv('../data/final_data.csv')  # 데이터 파일 경로에 맞게 수정\n",
    "\n",
    "# X와 y 추출\n",
    "X = data.drop('TARGET', axis=1)  # 'TARGET' 컬럼을 제외한 나머지 컬럼들을 X로 설정\n",
    "y = data['TARGET']  # 'TARGET' 컬럼을 y로 설정\n",
    "\n",
    "# SMOTE를 적용하여 데이터 오버샘플링\n",
    "smote = SMOTE(sampling_strategy='auto', random_state=42)\n",
    "X_resampled, y_resampled = smote.fit_resample(X, y)\n",
    "\n",
    "# 학습 데이터와 테스트 데이터로 분리\n",
    "X_train, X_test, y_train, y_test = train_test_split(X_resampled, y_resampled, test_size=0.2, random_state=42)\n",
    "\n",
    "# 로지스틱 회귀 모델 객체 생성\n",
    "model = LogisticRegression()\n",
    "\n",
    "# 모델 학습\n",
    "model.fit(X_train, y_train)\n",
    "\n",
    "# 테스트 데이터로 예측\n",
    "y_pred = model.predict(X_test)\n",
    "\n",
    "# 정확도 평가\n",
    "accuracy = accuracy_score(y_test, y_pred)\n",
    "print(\"정확도:\", accuracy)\n"
   ]
  },
  {
   "cell_type": "code",
   "execution_count": 3,
   "id": "4c73ce21",
   "metadata": {
    "collapsed": true
   },
   "outputs": [
    {
     "name": "stdout",
     "output_type": "stream",
     "text": [
      "Requirement already satisfied: scikit-learn in c:\\anaconda3\\envs\\nam\\lib\\site-packages (1.3.0)\n",
      "Requirement already satisfied: joblib>=1.1.1 in c:\\anaconda3\\envs\\nam\\lib\\site-packages (from scikit-learn) (1.2.0)\n",
      "Requirement already satisfied: threadpoolctl>=2.0.0 in c:\\anaconda3\\envs\\nam\\lib\\site-packages (from scikit-learn) (3.1.0)\n",
      "Requirement already satisfied: numpy>=1.17.3 in c:\\anaconda3\\envs\\nam\\lib\\site-packages (from scikit-learn) (1.23.0)\n",
      "Requirement already satisfied: scipy>=1.5.0 in c:\\anaconda3\\envs\\nam\\lib\\site-packages (from scikit-learn) (1.10.1)\n"
     ]
    },
    {
     "name": "stderr",
     "output_type": "stream",
     "text": [
      "WARNING: Ignoring invalid distribution -lotly (c:\\anaconda3\\envs\\nam\\lib\\site-packages)\n",
      "WARNING: Ignoring invalid distribution -lotly (c:\\anaconda3\\envs\\nam\\lib\\site-packages)\n",
      "WARNING: Ignoring invalid distribution -lotly (c:\\anaconda3\\envs\\nam\\lib\\site-packages)\n",
      "WARNING: Ignoring invalid distribution -lotly (c:\\anaconda3\\envs\\nam\\lib\\site-packages)\n",
      "WARNING: Ignoring invalid distribution -lotly (c:\\anaconda3\\envs\\nam\\lib\\site-packages)\n",
      "WARNING: Ignoring invalid distribution -lotly (c:\\anaconda3\\envs\\nam\\lib\\site-packages)\n"
     ]
    }
   ],
   "source": [
    "!pip install --upgrade scikit-learn"
   ]
  },
  {
   "cell_type": "code",
   "execution_count": 5,
   "id": "e37a3213",
   "metadata": {
    "collapsed": true
   },
   "outputs": [
    {
     "name": "stdout",
     "output_type": "stream",
     "text": [
      "Requirement already satisfied: imbalanced-learn in c:\\users\\dong_\\appdata\\roaming\\python\\python39\\site-packages (0.10.1)\n",
      "Collecting imbalanced-learn\n",
      "  Downloading imbalanced_learn-0.11.0-py3-none-any.whl (235 kB)\n",
      "     -------------------------------------- 235.6/235.6 kB 2.0 MB/s eta 0:00:00\n",
      "Requirement already satisfied: threadpoolctl>=2.0.0 in c:\\anaconda3\\envs\\nam\\lib\\site-packages (from imbalanced-learn) (3.1.0)\n",
      "Requirement already satisfied: scipy>=1.5.0 in c:\\anaconda3\\envs\\nam\\lib\\site-packages (from imbalanced-learn) (1.10.1)\n",
      "Requirement already satisfied: joblib>=1.1.1 in c:\\anaconda3\\envs\\nam\\lib\\site-packages (from imbalanced-learn) (1.2.0)\n",
      "Requirement already satisfied: numpy>=1.17.3 in c:\\anaconda3\\envs\\nam\\lib\\site-packages (from imbalanced-learn) (1.23.0)\n",
      "Requirement already satisfied: scikit-learn>=1.0.2 in c:\\anaconda3\\envs\\nam\\lib\\site-packages (from imbalanced-learn) (1.3.0)\n",
      "Installing collected packages: imbalanced-learn\n",
      "  Attempting uninstall: imbalanced-learn\n",
      "    Found existing installation: imbalanced-learn 0.10.1\n",
      "    Uninstalling imbalanced-learn-0.10.1:\n",
      "      Successfully uninstalled imbalanced-learn-0.10.1\n",
      "Successfully installed imbalanced-learn-0.11.0\n"
     ]
    },
    {
     "name": "stderr",
     "output_type": "stream",
     "text": [
      "WARNING: Ignoring invalid distribution -lotly (c:\\anaconda3\\envs\\nam\\lib\\site-packages)\n",
      "WARNING: Ignoring invalid distribution -lotly (c:\\anaconda3\\envs\\nam\\lib\\site-packages)\n",
      "WARNING: Ignoring invalid distribution -lotly (c:\\anaconda3\\envs\\nam\\lib\\site-packages)\n",
      "WARNING: Ignoring invalid distribution -lotly (c:\\anaconda3\\envs\\nam\\lib\\site-packages)\n",
      "ERROR: pip's dependency resolver does not currently take into account all the packages that are installed. This behaviour is the source of the following dependency conflicts.\n",
      "pycaret 3.0.4 requires scikit-learn<1.3.0,>=1.0, but you have scikit-learn 1.3.0 which is incompatible.\n",
      "WARNING: Ignoring invalid distribution -lotly (c:\\anaconda3\\envs\\nam\\lib\\site-packages)\n",
      "WARNING: Ignoring invalid distribution -lotly (c:\\anaconda3\\envs\\nam\\lib\\site-packages)\n",
      "WARNING: Ignoring invalid distribution -lotly (c:\\anaconda3\\envs\\nam\\lib\\site-packages)\n"
     ]
    }
   ],
   "source": [
    "!pip install --upgrade imbalanced-learn"
   ]
  },
  {
   "cell_type": "code",
   "execution_count": 9,
   "id": "17d0ca90",
   "metadata": {
    "collapsed": true
   },
   "outputs": [
    {
     "name": "stdout",
     "output_type": "stream",
     "text": [
      "Requirement already satisfied: imbalanced-learn in c:\\anaconda3\\envs\\nam\\lib\\site-packages (0.11.0)\n",
      "Requirement already satisfied: scipy>=1.5.0 in c:\\anaconda3\\envs\\nam\\lib\\site-packages (from imbalanced-learn) (1.10.1)\n",
      "Requirement already satisfied: scikit-learn>=1.0.2 in c:\\anaconda3\\envs\\nam\\lib\\site-packages (from imbalanced-learn) (1.3.0)\n",
      "Requirement already satisfied: numpy>=1.17.3 in c:\\anaconda3\\envs\\nam\\lib\\site-packages (from imbalanced-learn) (1.23.0)\n",
      "Requirement already satisfied: threadpoolctl>=2.0.0 in c:\\anaconda3\\envs\\nam\\lib\\site-packages (from imbalanced-learn) (3.1.0)\n",
      "Requirement already satisfied: joblib>=1.1.1 in c:\\anaconda3\\envs\\nam\\lib\\site-packages (from imbalanced-learn) (1.2.0)\n"
     ]
    },
    {
     "name": "stderr",
     "output_type": "stream",
     "text": [
      "WARNING: Ignoring invalid distribution -lotly (c:\\anaconda3\\envs\\nam\\lib\\site-packages)\n",
      "WARNING: Ignoring invalid distribution -lotly (c:\\anaconda3\\envs\\nam\\lib\\site-packages)\n",
      "WARNING: Ignoring invalid distribution -lotly (c:\\anaconda3\\envs\\nam\\lib\\site-packages)\n",
      "WARNING: Ignoring invalid distribution -lotly (c:\\anaconda3\\envs\\nam\\lib\\site-packages)\n",
      "WARNING: Ignoring invalid distribution -lotly (c:\\anaconda3\\envs\\nam\\lib\\site-packages)\n",
      "WARNING: Ignoring invalid distribution -lotly (c:\\anaconda3\\envs\\nam\\lib\\site-packages)\n"
     ]
    }
   ],
   "source": [
    "!pip install --upgrade imbalanced-learn"
   ]
  },
  {
   "cell_type": "code",
   "execution_count": null,
   "id": "a21c598d",
   "metadata": {},
   "outputs": [],
   "source": []
  }
 ],
 "metadata": {
  "kernelspec": {
   "display_name": "Python 3 (ipykernel)",
   "language": "python",
   "name": "python3"
  },
  "language_info": {
   "codemirror_mode": {
    "name": "ipython",
    "version": 3
   },
   "file_extension": ".py",
   "mimetype": "text/x-python",
   "name": "python",
   "nbconvert_exporter": "python",
   "pygments_lexer": "ipython3",
   "version": "3.9.13"
  }
 },
 "nbformat": 4,
 "nbformat_minor": 5
}
